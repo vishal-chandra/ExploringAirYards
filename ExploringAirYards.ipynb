{
 "cells": [
  {
   "cell_type": "code",
   "execution_count": 1,
   "metadata": {},
   "outputs": [],
   "source": [
    "import pandas as pd"
   ]
  },
  {
   "cell_type": "code",
   "execution_count": 2,
   "metadata": {},
   "outputs": [
    {
     "data": {
      "text/html": "<div>\n<style scoped>\n    .dataframe tbody tr th:only-of-type {\n        vertical-align: middle;\n    }\n\n    .dataframe tbody tr th {\n        vertical-align: top;\n    }\n\n    .dataframe thead th {\n        text-align: right;\n    }\n</style>\n<table border=\"1\" class=\"dataframe\">\n  <thead>\n    <tr style=\"text-align: right;\">\n      <th></th>\n      <th>name</th>\n      <th>position</th>\n      <th>team</th>\n      <th>total</th>\n    </tr>\n  </thead>\n  <tbody>\n    <tr>\n      <th>0</th>\n      <td>Christian McCaffrey</td>\n      <td>RB</td>\n      <td>CAR</td>\n      <td>{'targets': 142, 'rec': 116, 'rec_yards': 1005...</td>\n    </tr>\n    <tr>\n      <th>1</th>\n      <td>Michael Thomas</td>\n      <td>WR</td>\n      <td>NO</td>\n      <td>{'targets': 185, 'rec': 149, 'rec_yards': 1725...</td>\n    </tr>\n    <tr>\n      <th>2</th>\n      <td>Aaron Jones</td>\n      <td>RB</td>\n      <td>GB</td>\n      <td>{'targets': 68, 'rec': 49, 'rec_yards': 474, '...</td>\n    </tr>\n  </tbody>\n</table>\n</div>",
      "text/plain": "                  name position team  \\\n0  Christian McCaffrey       RB  CAR   \n1       Michael Thomas       WR   NO   \n2          Aaron Jones       RB   GB   \n\n                                               total  \n0  {'targets': 142, 'rec': 116, 'rec_yards': 1005...  \n1  {'targets': 185, 'rec': 149, 'rec_yards': 1725...  \n2  {'targets': 68, 'rec': 49, 'rec_yards': 474, '...  "
     },
     "execution_count": 2,
     "metadata": {},
     "output_type": "execute_result"
    }
   ],
   "source": [
    "# read JSON and slice first 4 cols\n",
    "df = pd.read_json(\"airyards.json\").iloc[:,[i for i in range(4)]]\n",
    "df.head(3)"
   ]
  },
  {
   "cell_type": "code",
   "execution_count": 3,
   "metadata": {},
   "outputs": [
    {
     "data": {
      "text/html": "<div>\n<style scoped>\n    .dataframe tbody tr th:only-of-type {\n        vertical-align: middle;\n    }\n\n    .dataframe tbody tr th {\n        vertical-align: top;\n    }\n\n    .dataframe thead th {\n        text-align: right;\n    }\n</style>\n<table border=\"1\" class=\"dataframe\">\n  <thead>\n    <tr style=\"text-align: right;\">\n      <th></th>\n      <th>adot</th>\n      <th>air_yards</th>\n      <th>ms_air</th>\n      <th>ppr</th>\n      <th>racr</th>\n      <th>rec</th>\n      <th>rec_yards</th>\n      <th>targets</th>\n      <th>td</th>\n      <th>tgt_share</th>\n      <th>wopr</th>\n      <th>yac</th>\n    </tr>\n  </thead>\n  <tbody>\n    <tr>\n      <th>0</th>\n      <td>0.7</td>\n      <td>95</td>\n      <td>0.02</td>\n      <td>469.2</td>\n      <td>10.58</td>\n      <td>116</td>\n      <td>1005</td>\n      <td>142</td>\n      <td>4</td>\n      <td>0.22</td>\n      <td>0.35</td>\n      <td>1019</td>\n    </tr>\n    <tr>\n      <th>1</th>\n      <td>8.0</td>\n      <td>1488</td>\n      <td>0.40</td>\n      <td>374.6</td>\n      <td>1.16</td>\n      <td>149</td>\n      <td>1725</td>\n      <td>185</td>\n      <td>9</td>\n      <td>0.32</td>\n      <td>0.75</td>\n      <td>583</td>\n    </tr>\n    <tr>\n      <th>2</th>\n      <td>2.8</td>\n      <td>190</td>\n      <td>0.04</td>\n      <td>318.8</td>\n      <td>2.49</td>\n      <td>49</td>\n      <td>474</td>\n      <td>68</td>\n      <td>3</td>\n      <td>0.12</td>\n      <td>0.20</td>\n      <td>433</td>\n    </tr>\n  </tbody>\n</table>\n</div>",
      "text/plain": "   adot  air_yards  ms_air    ppr   racr  rec  rec_yards  targets  td  \\\n0   0.7         95    0.02  469.2  10.58  116       1005      142   4   \n1   8.0       1488    0.40  374.6   1.16  149       1725      185   9   \n2   2.8        190    0.04  318.8   2.49   49        474       68   3   \n\n   tgt_share  wopr   yac  \n0       0.22  0.35  1019  \n1       0.32  0.75   583  \n2       0.12  0.20   433  "
     },
     "execution_count": 3,
     "metadata": {},
     "output_type": "execute_result"
    }
   ],
   "source": [
    "# flatten\n",
    "totals = pd.io.json.json_normalize(df['total'])\n",
    "totals.head(3)"
   ]
  },
  {
   "cell_type": "code",
   "execution_count": 4,
   "metadata": {},
   "outputs": [
    {
     "data": {
      "text/html": "<div>\n<style scoped>\n    .dataframe tbody tr th:only-of-type {\n        vertical-align: middle;\n    }\n\n    .dataframe tbody tr th {\n        vertical-align: top;\n    }\n\n    .dataframe thead th {\n        text-align: right;\n    }\n</style>\n<table border=\"1\" class=\"dataframe\">\n  <thead>\n    <tr style=\"text-align: right;\">\n      <th></th>\n      <th>name</th>\n      <th>position</th>\n      <th>team</th>\n      <th>adot</th>\n      <th>air_yards</th>\n      <th>ms_air</th>\n      <th>ppr</th>\n      <th>racr</th>\n      <th>rec</th>\n      <th>rec_yards</th>\n      <th>targets</th>\n      <th>td</th>\n      <th>tgt_share</th>\n      <th>wopr</th>\n      <th>yac</th>\n    </tr>\n  </thead>\n  <tbody>\n    <tr>\n      <th>0</th>\n      <td>Christian McCaffrey</td>\n      <td>RB</td>\n      <td>CAR</td>\n      <td>0.7</td>\n      <td>95</td>\n      <td>0.02</td>\n      <td>469.2</td>\n      <td>10.58</td>\n      <td>116</td>\n      <td>1005</td>\n      <td>142</td>\n      <td>4</td>\n      <td>0.22</td>\n      <td>0.35</td>\n      <td>1019</td>\n    </tr>\n    <tr>\n      <th>1</th>\n      <td>Michael Thomas</td>\n      <td>WR</td>\n      <td>NO</td>\n      <td>8.0</td>\n      <td>1488</td>\n      <td>0.40</td>\n      <td>374.6</td>\n      <td>1.16</td>\n      <td>149</td>\n      <td>1725</td>\n      <td>185</td>\n      <td>9</td>\n      <td>0.32</td>\n      <td>0.75</td>\n      <td>583</td>\n    </tr>\n    <tr>\n      <th>2</th>\n      <td>Aaron Jones</td>\n      <td>RB</td>\n      <td>GB</td>\n      <td>2.8</td>\n      <td>190</td>\n      <td>0.04</td>\n      <td>318.8</td>\n      <td>2.49</td>\n      <td>49</td>\n      <td>474</td>\n      <td>68</td>\n      <td>3</td>\n      <td>0.12</td>\n      <td>0.20</td>\n      <td>433</td>\n    </tr>\n  </tbody>\n</table>\n</div>",
      "text/plain": "                  name position team  adot  air_yards  ms_air    ppr   racr  \\\n0  Christian McCaffrey       RB  CAR   0.7         95    0.02  469.2  10.58   \n1       Michael Thomas       WR   NO   8.0       1488    0.40  374.6   1.16   \n2          Aaron Jones       RB   GB   2.8        190    0.04  318.8   2.49   \n\n   rec  rec_yards  targets  td  tgt_share  wopr   yac  \n0  116       1005      142   4       0.22  0.35  1019  \n1  149       1725      185   9       0.32  0.75   583  \n2   49        474       68   3       0.12  0.20   433  "
     },
     "execution_count": 4,
     "metadata": {},
     "output_type": "execute_result"
    }
   ],
   "source": [
    "# replace compressed totals with expanded\n",
    "df.drop(columns='total', inplace=True)\n",
    "df = pd.concat([df, totals], axis=1, join='inner')\n",
    "df.head(3)"
   ]
  },
  {
   "cell_type": "markdown",
   "metadata": {},
   "source": [
    "### JSON now parsed back to website format\n",
    "test below: "
   ]
  },
  {
   "cell_type": "code",
   "execution_count": 5,
   "metadata": {},
   "outputs": [
    {
     "data": {
      "text/plain": "683"
     },
     "execution_count": 5,
     "metadata": {},
     "output_type": "execute_result"
    }
   ],
   "source": [
    "df.shape[0]"
   ]
  },
  {
   "cell_type": "markdown",
   "metadata": {},
   "source": [
    "more players than shown online.\n",
    "\n",
    "### Sorting & Separating Data"
   ]
  },
  {
   "cell_type": "code",
   "execution_count": 6,
   "metadata": {},
   "outputs": [
    {
     "data": {
      "text/html": "<div>\n<style scoped>\n    .dataframe tbody tr th:only-of-type {\n        vertical-align: middle;\n    }\n\n    .dataframe tbody tr th {\n        vertical-align: top;\n    }\n\n    .dataframe thead th {\n        text-align: right;\n    }\n</style>\n<table border=\"1\" class=\"dataframe\">\n  <thead>\n    <tr style=\"text-align: right;\">\n      <th></th>\n      <th>name</th>\n      <th>position</th>\n      <th>team</th>\n      <th>adot</th>\n      <th>air_yards</th>\n      <th>ms_air</th>\n      <th>ppr</th>\n      <th>racr</th>\n      <th>rec</th>\n      <th>rec_yards</th>\n      <th>targets</th>\n      <th>td</th>\n      <th>tgt_share</th>\n      <th>wopr</th>\n      <th>yac</th>\n    </tr>\n  </thead>\n  <tbody>\n    <tr>\n      <th>682</th>\n      <td>Blake Bortles</td>\n      <td>QB</td>\n      <td>LA</td>\n      <td>0.0</td>\n      <td>-3</td>\n      <td>-0.01</td>\n      <td>-0.9</td>\n      <td>0.0</td>\n      <td>0</td>\n      <td>0</td>\n      <td>0</td>\n      <td>0</td>\n      <td>0.0</td>\n      <td>0.00</td>\n      <td>0</td>\n    </tr>\n    <tr>\n      <th>681</th>\n      <td>Tim Boyle</td>\n      <td>QB</td>\n      <td>GB</td>\n      <td>0.0</td>\n      <td>10</td>\n      <td>0.01</td>\n      <td>-0.7</td>\n      <td>0.0</td>\n      <td>0</td>\n      <td>0</td>\n      <td>0</td>\n      <td>0</td>\n      <td>0.0</td>\n      <td>0.01</td>\n      <td>0</td>\n    </tr>\n    <tr>\n      <th>343</th>\n      <td>Sam Darnold</td>\n      <td>QB</td>\n      <td>NYJ</td>\n      <td>0.0</td>\n      <td>3614</td>\n      <td>0.99</td>\n      <td>18.2</td>\n      <td>0.0</td>\n      <td>0</td>\n      <td>0</td>\n      <td>0</td>\n      <td>0</td>\n      <td>0.0</td>\n      <td>0.70</td>\n      <td>0</td>\n    </tr>\n    <tr>\n      <th>356</th>\n      <td>Jared Goff</td>\n      <td>QB</td>\n      <td>LA</td>\n      <td>0.0</td>\n      <td>4819</td>\n      <td>0.99</td>\n      <td>16.0</td>\n      <td>0.0</td>\n      <td>0</td>\n      <td>0</td>\n      <td>0</td>\n      <td>0</td>\n      <td>0.0</td>\n      <td>0.69</td>\n      <td>0</td>\n    </tr>\n    <tr>\n      <th>372</th>\n      <td>Marcus Mariota</td>\n      <td>QB</td>\n      <td>TEN</td>\n      <td>0.0</td>\n      <td>1134</td>\n      <td>0.73</td>\n      <td>12.9</td>\n      <td>0.0</td>\n      <td>0</td>\n      <td>0</td>\n      <td>0</td>\n      <td>0</td>\n      <td>0.0</td>\n      <td>0.51</td>\n      <td>0</td>\n    </tr>\n  </tbody>\n</table>\n</div>",
      "text/plain": "               name position team  adot  air_yards  ms_air   ppr  racr  rec  \\\n682   Blake Bortles       QB   LA   0.0         -3   -0.01  -0.9   0.0    0   \n681       Tim Boyle       QB   GB   0.0         10    0.01  -0.7   0.0    0   \n343     Sam Darnold       QB  NYJ   0.0       3614    0.99  18.2   0.0    0   \n356      Jared Goff       QB   LA   0.0       4819    0.99  16.0   0.0    0   \n372  Marcus Mariota       QB  TEN   0.0       1134    0.73  12.9   0.0    0   \n\n     rec_yards  targets  td  tgt_share  wopr  yac  \n682          0        0   0        0.0  0.00    0  \n681          0        0   0        0.0  0.01    0  \n343          0        0   0        0.0  0.70    0  \n356          0        0   0        0.0  0.69    0  \n372          0        0   0        0.0  0.51    0  "
     },
     "execution_count": 6,
     "metadata": {},
     "output_type": "execute_result"
    }
   ],
   "source": [
    "df.sort_values('position', inplace=True)\n",
    "df.head(5)"
   ]
  },
  {
   "cell_type": "code",
   "execution_count": 7,
   "metadata": {},
   "outputs": [],
   "source": [
    "# three groups of players\n",
    "wrdf = df[df['position'] == 'WR']\n",
    "tedf = df[df['position'] == 'TE']\n",
    "rbdf = df[df['position'] == 'RB']"
   ]
  },
  {
   "cell_type": "code",
   "execution_count": 8,
   "metadata": {},
   "outputs": [],
   "source": [
    "import seaborn as sns"
   ]
  },
  {
   "cell_type": "code",
   "execution_count": 9,
   "metadata": {},
   "outputs": [
    {
     "data": {
      "text/plain": "<AxesSubplot:xlabel='wopr', ylabel='Density'>"
     },
     "execution_count": 9,
     "metadata": {},
     "output_type": "execute_result"
    },
    {
     "data": {
      "image/png": "[encoded data removed]",
      "text/plain": "<Figure size 432x288 with 1 Axes>"
     },
     "metadata": {
      "needs_background": "light"
     },
     "output_type": "display_data"
    }
   ],
   "source": [
    "sns.kdeplot(data=wrdf['wopr'], fill=True)"
   ]
  },
  {
   "cell_type": "markdown",
   "metadata": {},
   "source": [
    "Probability density plot of WR WOPR."
   ]
  }
 ],
 "metadata": {
  "kernelspec": {
   "display_name": "Python 3.7.1 64-bit",
   "language": "python",
   "name": "python37164bitf1cbc702de1f44d4963379656eace79b"
  },
  "language_info": {
   "codemirror_mode": {
    "name": "ipython",
    "version": 3
   },
   "file_extension": ".py",
   "mimetype": "text/x-python",
   "name": "python",
   "nbconvert_exporter": "python",
   "pygments_lexer": "ipython3",
   "version": "3.7.1-final"
  }
 },
 "nbformat": 4,
 "nbformat_minor": 2
}